{
 "cells": [
  {
   "cell_type": "code",
   "execution_count": 1,
   "metadata": {
    "collapsed": true
   },
   "outputs": [],
   "source": [
    "import numpy as np\n",
    "import skimage \n",
    "# from skimage import io "
   ]
  },
  {
   "cell_type": "code",
   "execution_count": 3,
   "metadata": {
    "collapsed": true
   },
   "outputs": [],
   "source": [
    "import tensorflow as tf"
   ]
  },
  {
   "cell_type": "code",
   "execution_count": 4,
   "metadata": {},
   "outputs": [
    {
     "name": "stderr",
     "output_type": "stream",
     "text": [
      "Using TensorFlow backend.\n"
     ]
    }
   ],
   "source": [
    "import keras "
   ]
  },
  {
   "cell_type": "code",
   "execution_count": 5,
   "metadata": {
    "collapsed": true
   },
   "outputs": [],
   "source": [
    "from skimage import io \n",
    "def show(img):\n",
    "    io.imshow(img)\n",
    "    io.show()"
   ]
  },
  {
   "cell_type": "markdown",
   "metadata": {},
   "source": [
    "### Notes :\n",
    "\n",
    "- Code a custom Neural Network and classify some dataset \n",
    "- Discussed: Categorical Cross Entropy\n",
    "- Discussed: Activation Funcitions\n",
    "- Discussed: Saving the model weights and Config \n",
    "- Discussed:"
   ]
  },
  {
   "cell_type": "code",
   "execution_count": 6,
   "metadata": {
    "collapsed": true
   },
   "outputs": [],
   "source": [
    "from tqdm import tqdm \n",
    "from keras.datasets import mnist"
   ]
  },
  {
   "cell_type": "code",
   "execution_count": 7,
   "metadata": {
    "collapsed": true
   },
   "outputs": [],
   "source": [
    "(x_train, y_train), (x_test, y_test) = mnist.load_data()"
   ]
  },
  {
   "cell_type": "code",
   "execution_count": 8,
   "metadata": {},
   "outputs": [
    {
     "data": {
      "text/plain": [
       "(28, 28)"
      ]
     },
     "execution_count": 8,
     "metadata": {},
     "output_type": "execute_result"
    }
   ],
   "source": [
    "# So we have 28x28 images \n",
    "x_train[0].shape"
   ]
  },
  {
   "cell_type": "code",
   "execution_count": 9,
   "metadata": {},
   "outputs": [
    {
     "data": {
      "image/png": "[encoded data removed]",
      "text/plain": [
       "<matplotlib.figure.Figure at 0x7f645e67df90>"
      ]
     },
     "metadata": {},
     "output_type": "display_data"
    }
   ],
   "source": [
    "show(x_train[199])"
   ]
  },
  {
   "cell_type": "code",
   "execution_count": 10,
   "metadata": {
    "collapsed": true
   },
   "outputs": [],
   "source": [
    "from keras.utils import np_utils"
   ]
  },
  {
   "cell_type": "markdown",
   "metadata": {},
   "source": [
    "### One Hot encoding "
   ]
  },
  {
   "cell_type": "code",
   "execution_count": 11,
   "metadata": {
    "collapsed": true
   },
   "outputs": [],
   "source": [
    "y_test_oh = np_utils.to_categorical(y_test)\n",
    "y_train_oh = np_utils.to_categorical(y_train)"
   ]
  },
  {
   "cell_type": "code",
   "execution_count": 12,
   "metadata": {},
   "outputs": [
    {
     "data": {
      "text/plain": [
       "(7, array([ 0.,  0.,  0.,  0.,  0.,  0.,  0.,  1.,  0.,  0.]))"
      ]
     },
     "execution_count": 12,
     "metadata": {},
     "output_type": "execute_result"
    }
   ],
   "source": [
    "y_test[0] , y_test_oh[0]"
   ]
  },
  {
   "cell_type": "markdown",
   "metadata": {
    "collapsed": true
   },
   "source": [
    "### In classification problems establishing a baseline is important\n",
    "\n",
    "10 classes , 10percent accuracy. \n"
   ]
  },
  {
   "cell_type": "code",
   "execution_count": 13,
   "metadata": {
    "collapsed": true
   },
   "outputs": [],
   "source": [
    "### Talked about Random Initializers \n",
    "\n",
    "from matplotlib import pyplot as plt\n",
    "# x = np.random.rand(100)\n",
    "# plt.plot()\n",
    "# plt.show()\n"
   ]
  },
  {
   "cell_type": "code",
   "execution_count": 14,
   "metadata": {
    "collapsed": true
   },
   "outputs": [],
   "source": [
    "from keras.models import Sequential\n",
    "from keras import backend as k \n",
    "\n",
    "from keras.layers import Dense"
   ]
  },
  {
   "cell_type": "code",
   "execution_count": 15,
   "metadata": {},
   "outputs": [
    {
     "data": {
      "text/plain": [
       "784"
      ]
     },
     "execution_count": 15,
     "metadata": {},
     "output_type": "execute_result"
    }
   ],
   "source": [
    "28 **2"
   ]
  },
  {
   "cell_type": "code",
   "execution_count": 21,
   "metadata": {
    "collapsed": true
   },
   "outputs": [],
   "source": [
    "# ::: First Layer :::\n",
    "# \n",
    "# 784 inpur dimensions flattened image. \n",
    "# dotproduct = dot(Wx) \n",
    "# bias_added_dotproduct = dotproduct + b\n",
    "#\n",
    "#\n",
    "# def reluact(x):\n",
    "# return max(0,x)\n",
    "#\n",
    "# activation = reluact(bias_added_dotproduct)\n",
    "#\n",
    "#\n",
    "numclasses = 10\n",
    "EPOCHS = 30\n",
    "BATCHSIZE = 32\n",
    "\n",
    "hlayer1 = Dense(5,input_shape=(784,))\n",
    "# hlayer2 = Dense(3)\n",
    "outlayer = Dense(numclasses , activation='softmax')"
   ]
  },
  {
   "cell_type": "code",
   "execution_count": 22,
   "metadata": {
    "collapsed": true
   },
   "outputs": [],
   "source": [
    "from keras import activations"
   ]
  },
  {
   "cell_type": "code",
   "execution_count": 23,
   "metadata": {},
   "outputs": [],
   "source": [
    "model = Sequential()\n",
    "model.add(hlayer1)\n",
    "# model.add(hlayer2)\n",
    "model.add(outlayer)"
   ]
  },
  {
   "cell_type": "code",
   "execution_count": 24,
   "metadata": {},
   "outputs": [
    {
     "name": "stdout",
     "output_type": "stream",
     "text": [
      "_________________________________________________________________\n",
      "Layer (type)                 Output Shape              Param #   \n",
      "=================================================================\n",
      "dense_4 (Dense)              (None, 5)                 3925      \n",
      "_________________________________________________________________\n",
      "dense_5 (Dense)              (None, 10)                60        \n",
      "=================================================================\n",
      "Total params: 3,985\n",
      "Trainable params: 3,985\n",
      "Non-trainable params: 0\n",
      "_________________________________________________________________\n"
     ]
    }
   ],
   "source": [
    "#(784 * 5) + 5\n",
    "model.summary()"
   ]
  },
  {
   "cell_type": "code",
   "execution_count": 25,
   "metadata": {
    "collapsed": true
   },
   "outputs": [],
   "source": [
    "from keras.optimizers import adam"
   ]
  },
  {
   "cell_type": "code",
   "execution_count": 26,
   "metadata": {
    "collapsed": true
   },
   "outputs": [],
   "source": [
    "optimzer_of_my_choice = adam(lr=0.001)\n",
    "model.compile(optimzer_of_my_choice , loss='categorical_crossentropy' , metrics=['accuracy'])"
   ]
  },
  {
   "cell_type": "markdown",
   "metadata": {},
   "source": [
    "### Remember to flatten samples !"
   ]
  },
  {
   "cell_type": "code",
   "execution_count": 27,
   "metadata": {
    "collapsed": true
   },
   "outputs": [],
   "source": [
    "x_train_sravelled = np.reshape(x_train , (x_train.shape[0] , x_train.shape[1] * x_train.shape[2] ) )\n",
    "x_test_sravelled = np.reshape(x_test , (x_test.shape[0] , x_test.shape[1] * x_test.shape[2] ) )\n"
   ]
  },
  {
   "cell_type": "markdown",
   "metadata": {},
   "source": [
    "### Added a Callback !\n",
    "- Validation Data Split and discussion on training mechanisms \n",
    "- callbacks explored "
   ]
  },
  {
   "cell_type": "code",
   "execution_count": 29,
   "metadata": {
    "collapsed": true
   },
   "outputs": [],
   "source": [
    "from keras.callbacks import TensorBoard\n",
    "tbcallback = TensorBoard(log_dir='./logs')"
   ]
  },
  {
   "cell_type": "code",
   "execution_count": 30,
   "metadata": {},
   "outputs": [
    {
     "name": "stdout",
     "output_type": "stream",
     "text": [
      "Train on 48000 samples, validate on 12000 samples\n",
      "Epoch 1/30\n",
      "48000/48000 [==============================] - 4s - loss: 7.8055 - acc: 0.5052 - val_loss: 4.8908 - val_acc: 0.6838\n",
      "Epoch 2/30\n",
      "48000/48000 [==============================] - 3s - loss: 4.0283 - acc: 0.7394 - val_loss: 3.0318 - val_acc: 0.8008\n",
      "Epoch 3/30\n",
      "48000/48000 [==============================] - 3s - loss: 2.8791 - acc: 0.8096 - val_loss: 2.6598 - val_acc: 0.8252\n",
      "Epoch 4/30\n",
      "48000/48000 [==============================] - 3s - loss: 2.6279 - acc: 0.8254 - val_loss: 2.3694 - val_acc: 0.8403\n",
      "Epoch 5/30\n",
      "48000/48000 [==============================] - 3s - loss: 2.4534 - acc: 0.8367 - val_loss: 2.2722 - val_acc: 0.8460\n",
      "Epoch 6/30\n",
      "48000/48000 [==============================] - 3s - loss: 2.3440 - acc: 0.8430 - val_loss: 2.3335 - val_acc: 0.8414\n",
      "Epoch 7/30\n",
      "48000/48000 [==============================] - 3s - loss: 2.2465 - acc: 0.8467 - val_loss: 2.1439 - val_acc: 0.8508\n",
      "Epoch 8/30\n",
      "48000/48000 [==============================] - 3s - loss: 2.1282 - acc: 0.8484 - val_loss: 2.2823 - val_acc: 0.8409\n",
      "Epoch 9/30\n",
      "48000/48000 [==============================] - 3s - loss: 2.1504 - acc: 0.8443 - val_loss: 2.0025 - val_acc: 0.8554\n",
      "Epoch 10/30\n",
      "48000/48000 [==============================] - 3s - loss: 2.0281 - acc: 0.8512 - val_loss: 1.9474 - val_acc: 0.8595\n",
      "Epoch 11/30\n",
      "48000/48000 [==============================] - 2s - loss: 1.9822 - acc: 0.8526 - val_loss: 1.8720 - val_acc: 0.8622\n",
      "Epoch 12/30\n",
      "48000/48000 [==============================] - 2s - loss: 2.0192 - acc: 0.8513 - val_loss: 1.8573 - val_acc: 0.8614\n",
      "Epoch 13/30\n",
      "48000/48000 [==============================] - 2s - loss: 1.9608 - acc: 0.8555 - val_loss: 1.9808 - val_acc: 0.8534\n",
      "Epoch 14/30\n",
      "48000/48000 [==============================] - 2s - loss: 1.9094 - acc: 0.8581 - val_loss: 1.8592 - val_acc: 0.8665\n",
      "Epoch 15/30\n",
      "48000/48000 [==============================] - 2s - loss: 1.8974 - acc: 0.8622 - val_loss: 1.8699 - val_acc: 0.8657\n",
      "Epoch 16/30\n",
      "48000/48000 [==============================] - 2s - loss: 1.8953 - acc: 0.8643 - val_loss: 1.9120 - val_acc: 0.8656\n",
      "Epoch 17/30\n",
      "48000/48000 [==============================] - 2s - loss: 1.9372 - acc: 0.8614 - val_loss: 1.9115 - val_acc: 0.8600\n",
      "Epoch 18/30\n",
      "48000/48000 [==============================] - 2s - loss: 1.8884 - acc: 0.8641 - val_loss: 1.8840 - val_acc: 0.8624\n",
      "Epoch 19/30\n",
      "48000/48000 [==============================] - 2s - loss: 1.8818 - acc: 0.8658 - val_loss: 1.7455 - val_acc: 0.8781\n",
      "Epoch 20/30\n",
      "48000/48000 [==============================] - 2s - loss: 1.8821 - acc: 0.8660 - val_loss: 1.8757 - val_acc: 0.8661\n",
      "Epoch 21/30\n",
      "48000/48000 [==============================] - 2s - loss: 1.8247 - acc: 0.8689 - val_loss: 1.9339 - val_acc: 0.8618\n",
      "Epoch 22/30\n",
      "48000/48000 [==============================] - 2s - loss: 1.8802 - acc: 0.8665 - val_loss: 1.9719 - val_acc: 0.8584\n",
      "Epoch 23/30\n",
      "48000/48000 [==============================] - 2s - loss: 1.8677 - acc: 0.8672 - val_loss: 1.9567 - val_acc: 0.8618\n",
      "Epoch 24/30\n",
      "48000/48000 [==============================] - 2s - loss: 1.8198 - acc: 0.8698 - val_loss: 1.6620 - val_acc: 0.8813\n",
      "Epoch 25/30\n",
      "48000/48000 [==============================] - 2s - loss: 1.8177 - acc: 0.8701 - val_loss: 1.6960 - val_acc: 0.8810\n",
      "Epoch 26/30\n",
      "48000/48000 [==============================] - 2s - loss: 1.8266 - acc: 0.8698 - val_loss: 1.8311 - val_acc: 0.8719\n",
      "Epoch 27/30\n",
      "48000/48000 [==============================] - 2s - loss: 1.8448 - acc: 0.8716 - val_loss: 1.7787 - val_acc: 0.8712\n",
      "Epoch 28/30\n",
      "48000/48000 [==============================] - 2s - loss: 1.8216 - acc: 0.8731 - val_loss: 2.0043 - val_acc: 0.8639\n",
      "Epoch 29/30\n",
      "48000/48000 [==============================] - 3s - loss: 1.7796 - acc: 0.8756 - val_loss: 1.8086 - val_acc: 0.8702\n",
      "Epoch 30/30\n",
      "48000/48000 [==============================] - 3s - loss: 1.7905 - acc: 0.8744 - val_loss: 1.6865 - val_acc: 0.8830\n"
     ]
    }
   ],
   "source": [
    "history = model.fit(x_train_sravelled , y_train_oh, \n",
    "          batch_size=BATCHSIZE, epochs=EPOCHS, \n",
    "          verbose=1, \n",
    "          callbacks=[tbcallback],  ##\n",
    "          validation_split=0.2,  \n",
    "          validation_data=None, \n",
    "          shuffle=True, \n",
    "          class_weight=None, \n",
    "          sample_weight=None, \n",
    "          initial_epoch=0, \n",
    "         )"
   ]
  },
  {
   "cell_type": "code",
   "execution_count": 31,
   "metadata": {},
   "outputs": [
    {
     "name": "stdout",
     "output_type": "stream",
     "text": [
      " 9344/10000 [===========================>..] - ETA: 0s\n",
      "Test accuracy 0.8855\n"
     ]
    }
   ],
   "source": [
    "evalloss, testAccuracy = model.evaluate(x_test_sravelled,y_test_oh)\n",
    "\n",
    "print \"\\nTest accuracy :\" , testAccuracy"
   ]
  },
  {
   "cell_type": "code",
   "execution_count": 33,
   "metadata": {},
   "outputs": [
    {
     "data": {
      "text/plain": [
       "1.6430725292472577"
      ]
     },
     "execution_count": 33,
     "metadata": {},
     "output_type": "execute_result"
    }
   ],
   "source": [
    "evalloss"
   ]
  },
  {
   "cell_type": "code",
   "execution_count": 65,
   "metadata": {},
   "outputs": [
    {
     "data": {
      "image/png": "[encoded data removed]",
      "text/plain": [
       "<matplotlib.figure.Figure at 0x7f6419e28050>"
      ]
     },
     "metadata": {},
     "output_type": "display_data"
    },
    {
     "name": "stdout",
     "output_type": "stream",
     "text": [
      "1/1 [==============================] - 0s\n",
      "Predicted Label:  [ 0.  0.  0.  0.  0.  0.  0.  1.  0.  0.]\n",
      "Predicted Label:  [7]\n",
      "Truth labels : 7\n"
     ]
    }
   ],
   "source": [
    "tmp = x_test_sravelled[0].reshape((28,28))\n",
    "\n",
    "show(tmp)\n",
    "\n",
    "prob = model.predict(x_test_sravelled[0:1])\n",
    "predc = model.predict_classes(x_test_sravelled[0:1])\n",
    "\n",
    "print \"Predicted Label: \", max(prob)\n",
    "print \"Predicted Label: \", predc\n",
    "print \"Truth labels :\", np.argmax(y_test_oh[0])\n",
    "# model.evaluate(x_test_sravelled,y_test_oh)"
   ]
  },
  {
   "cell_type": "markdown",
   "metadata": {},
   "source": [
    "### Exploring High Dimensional Data through T-SNE"
   ]
  },
  {
   "cell_type": "code",
   "execution_count": 34,
   "metadata": {
    "collapsed": true
   },
   "outputs": [],
   "source": [
    "from sklearn.manifold import TSNE"
   ]
  },
  {
   "cell_type": "code",
   "execution_count": 48,
   "metadata": {
    "collapsed": true
   },
   "outputs": [],
   "source": [
    "embeddingModel = TSNE(n_components=2, perplexity=30.0, early_exaggeration=4.0, learning_rate=1000.0,\n",
    "                      n_iter=1000, n_iter_without_progress=30, min_grad_norm=1e-07, \n",
    "                      metric='euclidean', init='random', verbose=1, \n",
    "                      random_state=None, method='barnes_hut', angle=0.5)"
   ]
  },
  {
   "cell_type": "code",
   "execution_count": 49,
   "metadata": {},
   "outputs": [
    {
     "name": "stdout",
     "output_type": "stream",
     "text": [
      "[t-SNE] Computing pairwise distances...\n",
      "[t-SNE] Computing 91 nearest neighbors...\n",
      "[t-SNE] Computed conditional probabilities for sample 1000 / 1000\n",
      "[t-SNE] Mean sigma: 523.009441\n",
      "[t-SNE] KL divergence after 100 iterations with early exaggeration: 0.924966\n",
      "[t-SNE] Error after 175 iterations: 0.924966\n"
     ]
    }
   ],
   "source": [
    "out=embeddingModel.fit_transform(x_train_sravelled[:1000],y_train_oh[:1000])"
   ]
  },
  {
   "cell_type": "code",
   "execution_count": 51,
   "metadata": {},
   "outputs": [
    {
     "data": {
      "image/png": "[encoded data removed]",
      "text/plain": [
       "<matplotlib.figure.Figure at 0x7f64341c0b10>"
      ]
     },
     "metadata": {},
     "output_type": "display_data"
    }
   ],
   "source": [
    "plt.scatter(out[:,0] , out[:,1])\n",
    "plt.show()\n"
   ]
  },
  {
   "cell_type": "code",
   "execution_count": null,
   "metadata": {
    "collapsed": true
   },
   "outputs": [],
   "source": []
  }
 ],
 "metadata": {
  "kernelspec": {
   "display_name": "Python 2",
   "language": "python",
   "name": "python2"
  },
  "language_info": {
   "codemirror_mode": {
    "name": "ipython",
    "version": 2
   },
   "file_extension": ".py",
   "mimetype": "text/x-python",
   "name": "python",
   "nbconvert_exporter": "python",
   "pygments_lexer": "ipython2",
   "version": "2.7.13"
  }
 },
 "nbformat": 4,
 "nbformat_minor": 2
}

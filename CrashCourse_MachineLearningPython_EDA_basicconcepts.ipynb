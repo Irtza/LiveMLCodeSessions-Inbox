{
 "cells": [
  {
   "cell_type": "code",
   "execution_count": 1,
   "metadata": {
    "collapsed": true
   },
   "outputs": [],
   "source": [
    "import numpy as np"
   ]
  },
  {
   "cell_type": "code",
   "execution_count": 2,
   "metadata": {},
   "outputs": [
    {
     "name": "stderr",
     "output_type": "stream",
     "text": [
      "Using TensorFlow backend.\n"
     ]
    }
   ],
   "source": [
    "\n",
    "from __future__ import print_function\n",
    "import keras\n",
    "from keras.datasets import mnist\n",
    "\n",
    "from keras.models import Sequential"
   ]
  },
  {
   "cell_type": "code",
   "execution_count": 5,
   "metadata": {
    "collapsed": true
   },
   "outputs": [],
   "source": [
    "model = Sequential()"
   ]
  },
  {
   "cell_type": "code",
   "execution_count": null,
   "metadata": {
    "collapsed": true
   },
   "outputs": [],
   "source": []
  },
  {
   "cell_type": "code",
   "execution_count": 3,
   "metadata": {
    "collapsed": true
   },
   "outputs": [],
   "source": [
    "import skimage"
   ]
  },
  {
   "cell_type": "code",
   "execution_count": 4,
   "metadata": {
    "collapsed": true
   },
   "outputs": [],
   "source": [
    "from skimage import data, io"
   ]
  },
  {
   "cell_type": "code",
   "execution_count": 5,
   "metadata": {
    "collapsed": true
   },
   "outputs": [],
   "source": [
    "img = data.checkerboard()"
   ]
  },
  {
   "cell_type": "code",
   "execution_count": null,
   "metadata": {
    "collapsed": true
   },
   "outputs": [],
   "source": []
  },
  {
   "cell_type": "code",
   "execution_count": 9,
   "metadata": {
    "collapsed": true
   },
   "outputs": [],
   "source": [
    "def show(img):\n",
    "    io.imshow(img)\n",
    "    io.show()"
   ]
  },
  {
   "cell_type": "code",
   "execution_count": 10,
   "metadata": {
    "collapsed": true
   },
   "outputs": [],
   "source": [
    "img2 = data.astronaut()\n",
    "# img2.shap \n",
    "r = img2[:,:,0]  # 0  - 255 \n",
    "g = img2[:,:,1]  # 0  - 255 \n",
    "b = img2[:,:,2]  # 0  - 255 "
   ]
  },
  {
   "cell_type": "code",
   "execution_count": 11,
   "metadata": {
    "collapsed": true
   },
   "outputs": [],
   "source": [
    "boolimg = r > r.mean() \n",
    "# show()"
   ]
  },
  {
   "cell_type": "code",
   "execution_count": 12,
   "metadata": {
    "collapsed": true
   },
   "outputs": [],
   "source": [
    "# show(img)\n",
    "# img.max() # 0 - 1\n",
    "\n",
    "x = np.array([1,12,12,4,5,1,12,5,6,12,6,12])"
   ]
  },
  {
   "cell_type": "code",
   "execution_count": 13,
   "metadata": {
    "collapsed": true
   },
   "outputs": [],
   "source": [
    "slice1 = img[25:75 ,25:75]"
   ]
  },
  {
   "cell_type": "code",
   "execution_count": 14,
   "metadata": {},
   "outputs": [
    {
     "name": "stdout",
     "output_type": "stream",
     "text": [
      "<type 'numpy.ndarray'>\n",
      "(50, 50)\n",
      "255\n",
      "50\n",
      "0\n"
     ]
    }
   ],
   "source": [
    "# show(slice1)\n",
    "print (type(slice1))\n",
    "print (slice1.shape)\n",
    "print (slice1.max())\n",
    "print (len(slice1))\n",
    "# print (slice1.)\n",
    "\n",
    "slice1[1,3] = 0.01241\n",
    "\n",
    "print (slice1[1,3])\n",
    "\n",
    "# np.save(open('myarray.npy' , 'w') , img )\n"
   ]
  },
  {
   "cell_type": "code",
   "execution_count": 15,
   "metadata": {
    "collapsed": true
   },
   "outputs": [],
   "source": [
    "x = np.load(open('myarray.npy' , 'r') )"
   ]
  },
  {
   "cell_type": "code",
   "execution_count": 16,
   "metadata": {
    "collapsed": true
   },
   "outputs": [],
   "source": [
    "a = \"231,s , asd is a bad boyaeqe\""
   ]
  },
  {
   "cell_type": "code",
   "execution_count": 17,
   "metadata": {
    "collapsed": true
   },
   "outputs": [],
   "source": [
    "x2 = a.split(\",\")"
   ]
  },
  {
   "cell_type": "code",
   "execution_count": 18,
   "metadata": {},
   "outputs": [
    {
     "data": {
      "text/plain": [
       "['231', 's ', ' asd is a bad boyaeqe']"
      ]
     },
     "execution_count": 18,
     "metadata": {},
     "output_type": "execute_result"
    }
   ],
   "source": [
    "x2"
   ]
  },
  {
   "cell_type": "code",
   "execution_count": 19,
   "metadata": {
    "collapsed": true
   },
   "outputs": [],
   "source": [
    "def fuj():\n",
    "    return 0,2"
   ]
  },
  {
   "cell_type": "code",
   "execution_count": 20,
   "metadata": {
    "collapsed": true
   },
   "outputs": [],
   "source": [
    "v1 , v2 = fuj()"
   ]
  },
  {
   "cell_type": "code",
   "execution_count": 21,
   "metadata": {
    "collapsed": true
   },
   "outputs": [],
   "source": [
    "rows, cols = slice1.shape"
   ]
  },
  {
   "cell_type": "code",
   "execution_count": 22,
   "metadata": {},
   "outputs": [
    {
     "data": {
      "text/plain": [
       "50"
      ]
     },
     "execution_count": 22,
     "metadata": {},
     "output_type": "execute_result"
    }
   ],
   "source": [
    "rows"
   ]
  },
  {
   "cell_type": "code",
   "execution_count": 23,
   "metadata": {
    "collapsed": true
   },
   "outputs": [],
   "source": [
    "blist = [21, 'appl123123123122312e ' , 32 , 0.00 ]"
   ]
  },
  {
   "cell_type": "code",
   "execution_count": 24,
   "metadata": {},
   "outputs": [
    {
     "data": {
      "text/plain": [
       "dtype('S21')"
      ]
     },
     "execution_count": 24,
     "metadata": {},
     "output_type": "execute_result"
    }
   ],
   "source": [
    "arr = np.array(blist)\n",
    "arr.dtype"
   ]
  },
  {
   "cell_type": "code",
   "execution_count": 25,
   "metadata": {
    "collapsed": true
   },
   "outputs": [],
   "source": [
    "blist2 = ['adsa']"
   ]
  },
  {
   "cell_type": "code",
   "execution_count": 27,
   "metadata": {
    "collapsed": true
   },
   "outputs": [],
   "source": [
    "video = []\n",
    "\n",
    "for i in range(0,10):\n",
    "    video.append(img2)\n",
    "    \n",
    "    "
   ]
  },
  {
   "cell_type": "code",
   "execution_count": 142,
   "metadata": {
    "collapsed": true
   },
   "outputs": [],
   "source": [
    "video = np.asarray(video)"
   ]
  },
  {
   "cell_type": "code",
   "execution_count": 164,
   "metadata": {
    "collapsed": true
   },
   "outputs": [],
   "source": [
    "blist = [2,3,1,5,1,6,1,2,5,6,1]"
   ]
  },
  {
   "cell_type": "code",
   "execution_count": 160,
   "metadata": {
    "collapsed": true
   },
   "outputs": [],
   "source": [
    "nums = [0, 1, 2, 3, 4]\n",
    "even_num_to_square = {x: x ** 2 for x in nums if x % 2 == 0}"
   ]
  },
  {
   "cell_type": "code",
   "execution_count": 161,
   "metadata": {},
   "outputs": [
    {
     "data": {
      "text/plain": [
       "[0, 4, 16]"
      ]
     },
     "execution_count": 161,
     "metadata": {},
     "output_type": "execute_result"
    }
   ],
   "source": [
    "even_num_to_square"
   ]
  },
  {
   "cell_type": "code",
   "execution_count": null,
   "metadata": {
    "collapsed": true
   },
   "outputs": [],
   "source": []
  },
  {
   "cell_type": "code",
   "execution_count": 169,
   "metadata": {},
   "outputs": [
    {
     "name": "stdout",
     "output_type": "stream",
     "text": [
      "[2, 3, 1, 5, 1, 6, 1, 2, 5, 6, 1]\n",
      "set([1, 2, 3, 5, 6])\n"
     ]
    }
   ],
   "source": [
    "len(blist)\n",
    "len(set(blist))\n",
    "\n",
    "print (blist )\n",
    "print (set(blist))\n",
    "\n",
    "xset = set(blist)\n",
    "xset2 = set(blist)\n",
    "\n"
   ]
  },
  {
   "cell_type": "markdown",
   "metadata": {},
   "source": [
    "### TODO:\n",
    "    - Array Mathematics\n",
    "    - Boolean Indexing"
   ]
  },
  {
   "cell_type": "code",
   "execution_count": 30,
   "metadata": {},
   "outputs": [
    {
     "data": {
      "text/plain": [
       "910"
      ]
     },
     "execution_count": 30,
     "metadata": {},
     "output_type": "execute_result"
    }
   ],
   "source": [
    "y  = np.array([1,2,3,4,5,6])\n",
    "y2 = np.array([10,20,30,40,50,60])\n",
    "\n",
    "np.dot(y,y2)"
   ]
  },
  {
   "cell_type": "code",
   "execution_count": 37,
   "metadata": {},
   "outputs": [
    {
     "data": {
      "text/plain": [
       "(6, 1)"
      ]
     },
     "execution_count": 37,
     "metadata": {},
     "output_type": "execute_result"
    }
   ],
   "source": [
    "y.reshape((y.shape[0],1)).shape"
   ]
  },
  {
   "cell_type": "code",
   "execution_count": 51,
   "metadata": {},
   "outputs": [
    {
     "data": {
      "image/png": "[encoded data removed]",
      "text/plain": [
       "<matplotlib.figure.Figure at 0x7f4180aeda90>"
      ]
     },
     "metadata": {},
     "output_type": "display_data"
    },
    {
     "data": {
      "image/png": "[encoded data removed]",
      "text/plain": [
       "<matplotlib.figure.Figure at 0x7f4180cd2b10>"
      ]
     },
     "metadata": {},
     "output_type": "display_data"
    }
   ],
   "source": [
    "gimg = img2[:,:,0]\n",
    "\n",
    "boolimg = gimg > gimg.mean()\n",
    "# show(boolimg)\n",
    "\n",
    "mask =  np.zeros_like(gimg)\n",
    "mask[100:160,200:-100] = True \n",
    "show(mask)\n",
    "show(gimg * mask)"
   ]
  },
  {
   "cell_type": "code",
   "execution_count": 68,
   "metadata": {},
   "outputs": [
    {
     "data": {
      "image/png": "[encoded data removed]",
      "text/plain": [
       "<matplotlib.figure.Figure at 0x7f4180918290>"
      ]
     },
     "metadata": {},
     "output_type": "display_data"
    },
    {
     "data": {
      "image/png": "[encoded data removed]",
      "text/plain": [
       "<matplotlib.figure.Figure at 0x7f41829f5890>"
      ]
     },
     "metadata": {},
     "output_type": "display_data"
    }
   ],
   "source": [
    "# gimg.max()\n",
    "tt = (gimg + 10)\n",
    "show((tt / tt.max()) * 255.0)\n",
    "# * 255.0\n",
    "# show()\n",
    "# show(gimg)\n",
    "\n",
    "## whats causing this\n",
    "from skimage import img_as_float\n",
    "r = (img_as_float((gimg + 100 ) / (gimg + 100 ).max())) * 255.0"
   ]
  },
  {
   "cell_type": "code",
   "execution_count": 69,
   "metadata": {
    "collapsed": true
   },
   "outputs": [],
   "source": [
    "\n",
    "from skimage import feature\n"
   ]
  },
  {
   "cell_type": "code",
   "execution_count": 70,
   "metadata": {
    "collapsed": true
   },
   "outputs": [],
   "source": [
    "from skimage import segmentation"
   ]
  },
  {
   "cell_type": "code",
   "execution_count": 77,
   "metadata": {},
   "outputs": [
    {
     "data": {
      "image/png": "[encoded data removed]",
      "text/plain": [
       "<matplotlib.figure.Figure at 0x7f4180a08410>"
      ]
     },
     "metadata": {},
     "output_type": "display_data"
    }
   ],
   "source": [
    "superpixels = segmentation.slic(img2)\n",
    "# show(img2[:,:,0] * (superpixels == 20) )\n",
    "\n",
    "show(segmentation.find_boundaries(superpixels))\n"
   ]
  },
  {
   "cell_type": "markdown",
   "metadata": {},
   "source": [
    "### Day2 : \n",
    "- http://cs231n.stanford.edu/slides/2017/cs231n_2017_lecture1.pdf\n",
    "- Segmentation, and SLIC Super pixels\n",
    "- Problem Formulation on a Segmentation Task.\n",
    "- CNN Motivations\n",
    "- Metrics , \n",
    "- Evaluation\n",
    "- basics Modelling, \n",
    "- EDA basics, Statistics \n",
    "- Visualization, \n",
    "- Curse of Dimensionality,\n",
    "- Feature Engineering Basics , \n",
    "- Using Feature thresholds as predictions on one class\n",
    "- One VS All Methods for Binary classification and Multiclass representation\n"
   ]
  },
  {
   "cell_type": "markdown",
   "metadata": {},
   "source": [
    "### TODO : \n",
    "- Leading to Dimensionality Reduction\n",
    "- http://colah.github.io/posts/2014-10-Visualizing-MNIST/\n",
    "- http://www.deeplearningbook.org/\n",
    "- \n",
    "- \n"
   ]
  },
  {
   "cell_type": "code",
   "execution_count": null,
   "metadata": {
    "collapsed": true
   },
   "outputs": [],
   "source": []
  },
  {
   "cell_type": "code",
   "execution_count": null,
   "metadata": {
    "collapsed": true
   },
   "outputs": [],
   "source": []
  },
  {
   "cell_type": "code",
   "execution_count": null,
   "metadata": {
    "collapsed": true
   },
   "outputs": [],
   "source": []
  },
  {
   "cell_type": "code",
   "execution_count": null,
   "metadata": {
    "collapsed": true
   },
   "outputs": [],
   "source": []
  },
  {
   "cell_type": "code",
   "execution_count": null,
   "metadata": {
    "collapsed": true
   },
   "outputs": [],
   "source": []
  },
  {
   "cell_type": "code",
   "execution_count": null,
   "metadata": {
    "collapsed": true
   },
   "outputs": [],
   "source": []
  },
  {
   "cell_type": "code",
   "execution_count": null,
   "metadata": {
    "collapsed": true
   },
   "outputs": [],
   "source": [
    "yTruth = [0, 1, 1, 0]\n",
    "ypred = [0.4, 0.5, 0.6, 0.9]\n",
    "import numpy as np\n",
    "yTruth = [0, 1, 1, 0]\n",
    "ypred = [0.4, 0.5, 0.6, 0.9]\n",
    "def find_rms(yTruth,ypred):\n",
    "    diff = yTruth - ypred\n",
    "    sqr = diff ** 2\n",
    "    mean =  np.mean(sqr)\n",
    "    return np.sqrt(mean)\n",
    "find_rms(yTruth,ypred)\n",
    "find_rms(np.array(yTruth)  , np.array(ypred))\n",
    "import sklearn\n",
    "from sklearn import metrics\n",
    "from keras import me\n",
    "from keras import metrics\n",
    "metrics.mean_squared_error?\n",
    "x = metrics.mean_squared_error(yTruth,ypred)\n",
    "yTruth = np.array(yTruth)\n",
    "ypred = np.array(ypred)\n",
    "x = metrics.mean_squared_error(yTruth,ypred)\n",
    "x\n",
    "x.eval()\n",
    "import tensorflow as tf\n",
    "sess = tf.Session()\n",
    "sess.run(x)\n",
    "np.sqrt(x)\n",
    "sess.run(np.sqrt(x))\n",
    "from tensorflow import InteractiveSession\n",
    "t =- InteractiveSession()\n",
    "t = InteractiveSession()\n",
    "t.run(x)\n",
    "t.run(np.sqrt(x))\n",
    "np.sqrt(x)\n",
    "np.sqrt(0.345)\n",
    "del tf\n",
    "from sklearn import datasets\n",
    "datasets.load_iris()\n",
    "data = datasets.load_iris()\n",
    "data.shape\n",
    "type(data)\n",
    "data?\n",
    "data.a\n",
    "dataarr = data.data\n",
    "dataarr.shape\n",
    "import matplotlib.pyplot as plt\n",
    "dataarr\n",
    "y = data.target\n",
    "y\n",
    "x = dataarr\n",
    "x,y\n",
    "x.shape\n",
    "x.mean()\n",
    "x.mean(axis=0)\n",
    "x.var()\n",
    "x.var(axis=0)\n",
    "plt.plot(x[:,3])\n",
    "plt.show()\n",
    "plt.plot(x[:,3])\n",
    "plt.show()\n",
    "classapreds = x[:,3] > 1.5\n",
    "classapreds\n",
    "classapreds.astype(int) * 2\n",
    "classapreds = classapreds.astype(int) * 2\n",
    "classbpreds = (x[:,3] < 1.5 and x[:,3] >= 1.0 ).astype(int)\n",
    "classbpreds = (x[:,3] < 1.5 && x[:,3] >= 1.0 ).astype(int)\n",
    "classbpreds = (x[:,3] < 1.5 & x[:,3] >= 1.0 ).astype(int)\n",
    "classbpreds = ((x[:,3] < 1.5) & (x[:,3] >= 1.0) ).astype(int)\n",
    "classbpreds\n",
    "y\n",
    "classbtruth = y[y==1]\n",
    "classbtruth\n",
    "[y == 1]\n",
    "msk = ([y == 1]).astype(int)\n",
    "msk = (y == 1).astype(int)\n",
    "msk\n",
    "classbpreds\n",
    "def evaluation_metric_accuracy(ytruth,ypreds):\n",
    "    correct = np.sqr(ytruth - ypreds)\n",
    "    print correct\n",
    "evaluation_metric_accuracy(yTruth,ypreds)\n",
    "evaluation_metric_accuracy(msk , classbpreds)\n",
    "def evaluation_metric_accuracy(ytruth,ypreds):\n",
    "    correct = np.square(ytruth - ypreds)\n",
    "    print correct\n",
    "evaluation_metric_accuracy(msk , classbpreds)\n",
    "YPRED_inv = evaluation_metric_accuracy(msk , classbpreds)\n",
    "not YPRED_inv\n",
    "~YPRED_inv\n",
    "`YPRED_inv\n",
    "!YPRED_inv\n",
    "~YPRED_inv\n",
    "YPRED_inv\n",
    "def evaluation_metric_accuracy(ytruth,ypreds):\n",
    "    correct = np.square(ytruth - ypreds)\n",
    "    return  correct\n",
    "yy = evaluation_metric_accuracy(msk,classbpreds)\n",
    "~yy\n",
    "yy\n",
    "~yy.astype(bool)\n",
    "ypred = yy.astype(bool)\n",
    "np.sum(~yy.astype(bool))\n",
    "np.sum(~yy.astype(bool)) / len(y)\n",
    "np.sum(~yy.astype(bool)) / len(msk)\n",
    "np.sum(~yy.astype(bool)) / float(len(msk))\n",
    "plt.show(x[:,3])\n",
    "plt.show()\n",
    "plt.plot(x[:,3])\n",
    "plt.show()\n",
    "x.shape\n",
    "from sklearn import metrics\n",
    "metrics.accuracy_score((msk==1),classbpreds)\n",
    "import pandas as pd\n",
    "from scipy import stats\n",
    "np.correlate?\n",
    "x.shape\n",
    "plt.scatter(x)\n",
    "plt.scatter(x,x)\n",
    "plt.show()\n",
    "plt.scatter?\n",
    "plt.scatter(x[:,0] , x[:,1])\n",
    "plt.show()\n",
    "plt.scatter(x[:,0] , x[:,1])\n",
    "plt.show()\n",
    "plt.scatter(x[:,0] , x[:,2])\n",
    "plt.show()\n",
    "plt.scatter(x[:,0] , x[:,3])\n",
    "plt.show()\n",
    "plt.scatter(x[:,1] , x[:,3])\n",
    "plt.show()\n",
    "%history"
   ]
  },
  {
   "cell_type": "code",
   "execution_count": null,
   "metadata": {
    "collapsed": true
   },
   "outputs": [],
   "source": []
  },
  {
   "cell_type": "code",
   "execution_count": null,
   "metadata": {
    "collapsed": true
   },
   "outputs": [],
   "source": []
  },
  {
   "cell_type": "code",
   "execution_count": null,
   "metadata": {
    "collapsed": true
   },
   "outputs": [],
   "source": []
  },
  {
   "cell_type": "code",
   "execution_count": null,
   "metadata": {
    "collapsed": true
   },
   "outputs": [],
   "source": []
  },
  {
   "cell_type": "code",
   "execution_count": null,
   "metadata": {
    "collapsed": true
   },
   "outputs": [],
   "source": []
  },
  {
   "cell_type": "code",
   "execution_count": null,
   "metadata": {
    "collapsed": true
   },
   "outputs": [],
   "source": []
  },
  {
   "cell_type": "code",
   "execution_count": null,
   "metadata": {
    "collapsed": true
   },
   "outputs": [],
   "source": []
  },
  {
   "cell_type": "code",
   "execution_count": null,
   "metadata": {
    "collapsed": true
   },
   "outputs": [],
   "source": []
  },
  {
   "cell_type": "code",
   "execution_count": null,
   "metadata": {
    "collapsed": true
   },
   "outputs": [],
   "source": []
  },
  {
   "cell_type": "code",
   "execution_count": null,
   "metadata": {
    "collapsed": true
   },
   "outputs": [],
   "source": []
  },
  {
   "cell_type": "code",
   "execution_count": null,
   "metadata": {
    "collapsed": true
   },
   "outputs": [],
   "source": []
  },
  {
   "cell_type": "code",
   "execution_count": null,
   "metadata": {
    "collapsed": true
   },
   "outputs": [],
   "source": []
  },
  {
   "cell_type": "code",
   "execution_count": null,
   "metadata": {
    "collapsed": true
   },
   "outputs": [],
   "source": []
  },
  {
   "cell_type": "code",
   "execution_count": null,
   "metadata": {
    "collapsed": true
   },
   "outputs": [],
   "source": []
  },
  {
   "cell_type": "code",
   "execution_count": null,
   "metadata": {
    "collapsed": true
   },
   "outputs": [],
   "source": []
  },
  {
   "cell_type": "code",
   "execution_count": null,
   "metadata": {
    "collapsed": true
   },
   "outputs": [],
   "source": []
  },
  {
   "cell_type": "code",
   "execution_count": null,
   "metadata": {
    "collapsed": true
   },
   "outputs": [],
   "source": []
  },
  {
   "cell_type": "code",
   "execution_count": null,
   "metadata": {
    "collapsed": true
   },
   "outputs": [],
   "source": []
  },
  {
   "cell_type": "code",
   "execution_count": null,
   "metadata": {
    "collapsed": true
   },
   "outputs": [],
   "source": []
  },
  {
   "cell_type": "code",
   "execution_count": null,
   "metadata": {
    "collapsed": true
   },
   "outputs": [],
   "source": []
  },
  {
   "cell_type": "code",
   "execution_count": null,
   "metadata": {
    "collapsed": true
   },
   "outputs": [],
   "source": []
  },
  {
   "cell_type": "code",
   "execution_count": null,
   "metadata": {
    "collapsed": true
   },
   "outputs": [],
   "source": []
  },
  {
   "cell_type": "code",
   "execution_count": null,
   "metadata": {
    "collapsed": true
   },
   "outputs": [],
   "source": []
  },
  {
   "cell_type": "code",
   "execution_count": null,
   "metadata": {
    "collapsed": true
   },
   "outputs": [],
   "source": []
  },
  {
   "cell_type": "code",
   "execution_count": null,
   "metadata": {
    "collapsed": true
   },
   "outputs": [],
   "source": []
  },
  {
   "cell_type": "code",
   "execution_count": null,
   "metadata": {
    "collapsed": true
   },
   "outputs": [],
   "source": []
  },
  {
   "cell_type": "code",
   "execution_count": null,
   "metadata": {
    "collapsed": true
   },
   "outputs": [],
   "source": []
  },
  {
   "cell_type": "code",
   "execution_count": null,
   "metadata": {
    "collapsed": true
   },
   "outputs": [],
   "source": []
  },
  {
   "cell_type": "markdown",
   "metadata": {
    "collapsed": true
   },
   "source": [
    "### Introduction to Keras\n",
    "\n",
    "- live Code MNIST examples"
   ]
  },
  {
   "cell_type": "raw",
   "metadata": {},
   "source": [
    "### Examples. mnist_cnn.py \n",
    "\n",
    "from keras.layers import Dense, Dropout, Flatten\n",
    "from keras.layers import Conv2D, MaxPooling2D\n",
    "from keras import backend as K\n",
    "\n",
    "batch_size = 128\n",
    "num_classes = 10\n",
    "epochs = 12\n",
    "\n",
    "# input image dimensions\n",
    "img_rows, img_cols = 28, 28\n",
    "\n",
    "# the data, shuffled and split between train and test sets\n",
    "(x_train, y_train), (x_test, y_test) = mnist.load_data()\n",
    "\n",
    "if K.image_data_format() == 'channels_first':\n",
    "    x_train = x_train.reshape(x_train.shape[0], 1, img_rows, img_cols)\n",
    "    x_test = x_test.reshape(x_test.shape[0], 1, img_rows, img_cols)\n",
    "    input_shape = (1, img_rows, img_cols)\n",
    "else:\n",
    "    x_train = x_train.reshape(x_train.shape[0], img_rows, img_cols, 1)\n",
    "    x_test = x_test.reshape(x_test.shape[0], img_rows, img_cols, 1)\n",
    "    input_shape = (img_rows, img_cols, 1)\n",
    "\n",
    "x_train = x_train.astype('float32')\n",
    "x_test = x_test.astype('float32')\n",
    "x_train /= 255\n",
    "x_test /= 255\n",
    "print('x_train shape:', x_train.shape)\n",
    "print(x_train.shape[0], 'train samples')\n",
    "print(x_test.shape[0], 'test samples')\n",
    "\n",
    "# convert class vectors to binary class matrices\n",
    "y_train = keras.utils.to_categorical(y_train, num_classes)\n",
    "y_test = keras.utils.to_categorical(y_test, num_classes)\n",
    "\n",
    "model = Sequential()\n",
    "model.add(Conv2D(32, kernel_size=(3, 3),\n",
    "                 activation='relu',\n",
    "                 input_shape=input_shape))\n",
    "model.add(Conv2D(64, (3, 3), activation='relu'))\n",
    "model.add(MaxPooling2D(pool_size=(2, 2)))\n",
    "model.add(Dropout(0.25)) \n",
    "model.add(Flatten())\n",
    "model.add(Dense(128, activation='relu'))\n",
    "model.add(Dropout(0.5))\n",
    "model.add(Dense(num_classes, activation='softmax'))\n",
    "\n",
    "model.compile(loss=keras.losses.categorical_crossentropy,\n",
    "              optimizer=keras.optimizers.Adadelta(),\n",
    "              metrics=['accuracy'])\n",
    "\n",
    "model.fit(x_train, y_train,\n",
    "          batch_size=batch_size,\n",
    "          epochs=epochs,\n",
    "          verbose=1,\n",
    "          validation_data=(x_test, y_test))\n",
    "score = model.evaluate(x_test, y_test, verbose=0)\n",
    "print('Test loss:', score[0])\n",
    "print('Test accuracy:', score[1])\n"
   ]
  },
  {
   "cell_type": "code",
   "execution_count": null,
   "metadata": {
    "collapsed": true
   },
   "outputs": [],
   "source": []
  }
 ],
 "metadata": {
  "kernelspec": {
   "display_name": "Python 2",
   "language": "python",
   "name": "python2"
  },
  "language_info": {
   "codemirror_mode": {
    "name": "ipython",
    "version": 2
   },
   "file_extension": ".py",
   "mimetype": "text/x-python",
   "name": "python",
   "nbconvert_exporter": "python",
   "pygments_lexer": "ipython2",
   "version": "2.7.13"
  }
 },
 "nbformat": 4,
 "nbformat_minor": 2
}

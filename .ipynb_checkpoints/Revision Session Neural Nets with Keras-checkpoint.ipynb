{
 "cells": [
  {
   "cell_type": "code",
   "execution_count": 8,
   "metadata": {
    "collapsed": true
   },
   "outputs": [],
   "source": [
    "import numpy as np\n",
    "import skimage \n",
    "from skimage import io "
   ]
  },
  {
   "cell_type": "code",
   "execution_count": 1,
   "metadata": {
    "collapsed": true
   },
   "outputs": [],
   "source": [
    "import tensorflow as tf"
   ]
  },
  {
   "cell_type": "code",
   "execution_count": 2,
   "metadata": {},
   "outputs": [
    {
     "name": "stderr",
     "output_type": "stream",
     "text": [
      "Using TensorFlow backend.\n"
     ]
    }
   ],
   "source": [
    "import keras "
   ]
  },
  {
   "cell_type": "code",
   "execution_count": 3,
   "metadata": {
    "collapsed": true
   },
   "outputs": [],
   "source": [
    "def show(img):\n",
    "    io.imshow(img)\n",
    "    io.show()"
   ]
  },
  {
   "cell_type": "markdown",
   "metadata": {},
   "source": [
    "### Notes :\n",
    "\n",
    "- Code a custom Neural Network and classify some dataset \n",
    "- Discussed: Categorical Cross Entropy\n",
    "- Discussed: Activation Funcitions\n",
    "- Discussed: Saving the model weights and Config \n",
    "- Discussed:"
   ]
  },
  {
   "cell_type": "code",
   "execution_count": 4,
   "metadata": {
    "collapsed": true
   },
   "outputs": [],
   "source": [
    "from tqdm import tqdm \n",
    "from keras.datasets import mnist"
   ]
  },
  {
   "cell_type": "code",
   "execution_count": 18,
   "metadata": {
    "collapsed": true
   },
   "outputs": [],
   "source": [
    "(x_train, y_train), (x_test, y_test) = mnist.load_data()"
   ]
  },
  {
   "cell_type": "code",
   "execution_count": 19,
   "metadata": {},
   "outputs": [
    {
     "data": {
      "text/plain": [
       "(28, 28)"
      ]
     },
     "execution_count": 19,
     "metadata": {},
     "output_type": "execute_result"
    }
   ],
   "source": [
    "# So we have 28x28 images \n",
    "x_train[0].shape"
   ]
  },
  {
   "cell_type": "code",
   "execution_count": 20,
   "metadata": {},
   "outputs": [
    {
     "data": {
      "image/png": "[encoded data removed]",
      "text/plain": [
       "<matplotlib.figure.Figure at 0x7f7cec1e6810>"
      ]
     },
     "metadata": {},
     "output_type": "display_data"
    }
   ],
   "source": [
    "show(x_train[199])"
   ]
  },
  {
   "cell_type": "code",
   "execution_count": 21,
   "metadata": {
    "collapsed": true
   },
   "outputs": [],
   "source": [
    "from keras.utils import np_utils"
   ]
  },
  {
   "cell_type": "markdown",
   "metadata": {},
   "source": [
    "### One Hot encoding "
   ]
  },
  {
   "cell_type": "code",
   "execution_count": 22,
   "metadata": {
    "collapsed": true
   },
   "outputs": [],
   "source": [
    "y_test_oh = np_utils.to_categorical(y_test)\n",
    "y_train_oh = np_utils.to_categorical(y_train)"
   ]
  },
  {
   "cell_type": "code",
   "execution_count": 25,
   "metadata": {},
   "outputs": [
    {
     "data": {
      "text/plain": [
       "(7, array([ 0.,  0.,  0.,  0.,  0.,  0.,  0.,  1.,  0.,  0.]))"
      ]
     },
     "execution_count": 25,
     "metadata": {},
     "output_type": "execute_result"
    }
   ],
   "source": [
    "y_test[0] , y_test_oh[0]"
   ]
  },
  {
   "cell_type": "markdown",
   "metadata": {
    "collapsed": true
   },
   "source": [
    "### In classification problems establishing a baseline is important\n",
    "\n",
    "10 classes , 10percent accuracy. \n"
   ]
  },
  {
   "cell_type": "code",
   "execution_count": 61,
   "metadata": {
    "collapsed": true
   },
   "outputs": [],
   "source": [
    "### Talked about Random Initializers \n",
    "\n",
    "from matplotlib import pyplot as plt\n",
    "# x = np.random.rand(100)\n",
    "# plt.plot()\n",
    "# plt.show()\n"
   ]
  },
  {
   "cell_type": "code",
   "execution_count": 31,
   "metadata": {},
   "outputs": [],
   "source": [
    "from keras.models import Sequential\n",
    "from keras import backend as k \n",
    "\n",
    "from keras.layers import Dense"
   ]
  },
  {
   "cell_type": "code",
   "execution_count": 62,
   "metadata": {},
   "outputs": [
    {
     "data": {
      "text/plain": [
       "784"
      ]
     },
     "execution_count": 62,
     "metadata": {},
     "output_type": "execute_result"
    }
   ],
   "source": [
    "28 **2"
   ]
  },
  {
   "cell_type": "code",
   "execution_count": 111,
   "metadata": {},
   "outputs": [],
   "source": [
    "# ::: First Layer :::\n",
    "# \n",
    "# 784 inpur dimensions flattened image. \n",
    "# dotproduct = dot(Wx) \n",
    "# bias_added_dotproduct = dotproduct + b\n",
    "#\n",
    "#\n",
    "# def reluact(x):\n",
    "# return max(0,x)\n",
    "#\n",
    "# activation = reluact(bias_added_dotproduct)\n",
    "#\n",
    "#\n",
    "numclasses = 10\n",
    "EPOCHS = 30\n",
    "BATCHSIZE = 32\n",
    "\n",
    "hlayer1 = Dense(5,input_shape=(784,))\n",
    "hlayer2 = Dense(3)\n",
    "outlayer = Dense(numclasses , activation='softmax')"
   ]
  },
  {
   "cell_type": "code",
   "execution_count": 112,
   "metadata": {},
   "outputs": [],
   "source": [
    "from keras import activations"
   ]
  },
  {
   "cell_type": "code",
   "execution_count": 113,
   "metadata": {},
   "outputs": [],
   "source": [
    "model = Sequential()\n",
    "model.add(hlayer1)\n",
    "model.add(hlayer2)\n",
    "model.add(outlayer)"
   ]
  },
  {
   "cell_type": "code",
   "execution_count": 114,
   "metadata": {},
   "outputs": [
    {
     "name": "stdout",
     "output_type": "stream",
     "text": [
      "_________________________________________________________________\n",
      "Layer (type)                 Output Shape              Param #   \n",
      "=================================================================\n",
      "dense_12 (Dense)             (None, 5)                 3925      \n",
      "_________________________________________________________________\n",
      "dense_13 (Dense)             (None, 3)                 18        \n",
      "_________________________________________________________________\n",
      "dense_14 (Dense)             (None, 10)                40        \n",
      "=================================================================\n",
      "Total params: 3,983\n",
      "Trainable params: 3,983\n",
      "Non-trainable params: 0\n",
      "_________________________________________________________________\n"
     ]
    }
   ],
   "source": [
    "#(784 * 5) + 5\n",
    "model.summary()"
   ]
  },
  {
   "cell_type": "code",
   "execution_count": 116,
   "metadata": {},
   "outputs": [],
   "source": [
    "from keras.optimizers import adam"
   ]
  },
  {
   "cell_type": "code",
   "execution_count": 117,
   "metadata": {},
   "outputs": [],
   "source": [
    "optimzer_of_my_choice = adam(lr=0.001)\n",
    "model.compile(optimzer_of_my_choice , loss='categorical_crossentropy' , metrics=['accuracy'])"
   ]
  },
  {
   "cell_type": "markdown",
   "metadata": {},
   "source": [
    "### Remember to flatten samples !"
   ]
  },
  {
   "cell_type": "code",
   "execution_count": 118,
   "metadata": {},
   "outputs": [],
   "source": [
    "x_train_sravelled = np.reshape(x_train , (x_train.shape[0] , x_train.shape[1] * x_train.shape[2] ) )\n",
    "x_test_sravelled = np.reshape(x_test , (x_test.shape[0] , x_test.shape[1] * x_test.shape[2] ) )\n"
   ]
  },
  {
   "cell_type": "markdown",
   "metadata": {},
   "source": [
    "### Added a Callback !\n",
    "- Validation Data Split and discussion on training mechanisms \n",
    "- callbacks explored "
   ]
  },
  {
   "cell_type": "code",
   "execution_count": 119,
   "metadata": {
    "collapsed": true
   },
   "outputs": [],
   "source": [
    "from keras.callbacks import TensorBoard\n",
    "tbcallback = TensorBoard(log_dir='./logs')"
   ]
  },
  {
   "cell_type": "code",
   "execution_count": 120,
   "metadata": {},
   "outputs": [
    {
     "name": "stdout",
     "output_type": "stream",
     "text": [
      "Train on 48000 samples, validate on 12000 samples\n",
      "Epoch 1/30\n",
      "48000/48000 [==============================] - 3s - loss: 3.8893 - acc: 0.5812 - val_loss: 2.1973 - val_acc: 0.6480\n",
      "Epoch 2/30\n",
      "48000/48000 [==============================] - 4s - loss: 2.0905 - acc: 0.6704 - val_loss: 1.6932 - val_acc: 0.7019\n",
      "Epoch 3/30\n",
      "48000/48000 [==============================] - 3s - loss: 1.2065 - acc: 0.7307 - val_loss: 0.7977 - val_acc: 0.7632\n",
      "Epoch 4/30\n",
      "48000/48000 [==============================] - 3s - loss: 0.7662 - acc: 0.7680 - val_loss: 0.7084 - val_acc: 0.7845\n",
      "Epoch 5/30\n",
      "48000/48000 [==============================] - 3s - loss: 0.7290 - acc: 0.7787 - val_loss: 0.7416 - val_acc: 0.7773\n",
      "Epoch 6/30\n",
      "48000/48000 [==============================] - 4s - loss: 0.7174 - acc: 0.7832 - val_loss: 0.6749 - val_acc: 0.8009\n",
      "Epoch 7/30\n",
      "48000/48000 [==============================] - 3s - loss: 0.7092 - acc: 0.7871 - val_loss: 0.6590 - val_acc: 0.7992\n",
      "Epoch 8/30\n",
      "48000/48000 [==============================] - 3s - loss: 0.7004 - acc: 0.7882 - val_loss: 0.6867 - val_acc: 0.7900\n",
      "Epoch 9/30\n",
      "48000/48000 [==============================] - 4s - loss: 0.6930 - acc: 0.7905 - val_loss: 0.6457 - val_acc: 0.8030\n",
      "Epoch 10/30\n",
      "48000/48000 [==============================] - 3s - loss: 0.6863 - acc: 0.7929 - val_loss: 0.6682 - val_acc: 0.7971\n",
      "Epoch 11/30\n",
      "48000/48000 [==============================] - 3s - loss: 0.6856 - acc: 0.7921 - val_loss: 0.6384 - val_acc: 0.8065\n",
      "Epoch 12/30\n",
      "48000/48000 [==============================] - 3s - loss: 0.6767 - acc: 0.7931 - val_loss: 0.6451 - val_acc: 0.8101\n",
      "Epoch 13/30\n",
      "48000/48000 [==============================] - 4s - loss: 0.6754 - acc: 0.7950 - val_loss: 0.6654 - val_acc: 0.7953\n",
      "Epoch 14/30\n",
      "48000/48000 [==============================] - 4s - loss: 0.6746 - acc: 0.7945 - val_loss: 0.6446 - val_acc: 0.8086\n",
      "Epoch 15/30\n",
      "48000/48000 [==============================] - 3s - loss: 0.6715 - acc: 0.7955 - val_loss: 0.6652 - val_acc: 0.7999\n",
      "Epoch 16/30\n",
      "48000/48000 [==============================] - 3s - loss: 0.6717 - acc: 0.7956 - val_loss: 0.6567 - val_acc: 0.7914\n",
      "Epoch 17/30\n",
      "48000/48000 [==============================] - 4s - loss: 0.6691 - acc: 0.7943 - val_loss: 0.6356 - val_acc: 0.8085\n",
      "Epoch 18/30\n",
      "48000/48000 [==============================] - 4s - loss: 0.6613 - acc: 0.7984 - val_loss: 0.6849 - val_acc: 0.7827\n",
      "Epoch 19/30\n",
      "48000/48000 [==============================] - 4s - loss: 0.6680 - acc: 0.7963 - val_loss: 0.6389 - val_acc: 0.8037\n",
      "Epoch 20/30\n",
      "48000/48000 [==============================] - 4s - loss: 0.6637 - acc: 0.7993 - val_loss: 0.6362 - val_acc: 0.8025\n",
      "Epoch 21/30\n",
      "48000/48000 [==============================] - 3s - loss: 0.6622 - acc: 0.7968 - val_loss: 0.6594 - val_acc: 0.7987\n",
      "Epoch 22/30\n",
      "48000/48000 [==============================] - 3s - loss: 0.6599 - acc: 0.7986 - val_loss: 0.6326 - val_acc: 0.8091\n",
      "Epoch 23/30\n",
      "48000/48000 [==============================] - 7s - loss: 0.6625 - acc: 0.7978 - val_loss: 0.6174 - val_acc: 0.8118\n",
      "Epoch 24/30\n",
      "48000/48000 [==============================] - 3s - loss: 0.6592 - acc: 0.7996 - val_loss: 0.6485 - val_acc: 0.8028\n",
      "Epoch 25/30\n",
      "48000/48000 [==============================] - 3s - loss: 0.6566 - acc: 0.7983 - val_loss: 0.6573 - val_acc: 0.7990\n",
      "Epoch 26/30\n",
      "48000/48000 [==============================] - 3s - loss: 0.6572 - acc: 0.8005 - val_loss: 0.6295 - val_acc: 0.8120\n",
      "Epoch 27/30\n",
      "48000/48000 [==============================] - 3s - loss: 0.6575 - acc: 0.7997 - val_loss: 0.6153 - val_acc: 0.8163\n",
      "Epoch 28/30\n",
      "48000/48000 [==============================] - 4s - loss: 0.6560 - acc: 0.7986 - val_loss: 0.6375 - val_acc: 0.8075\n",
      "Epoch 29/30\n",
      "48000/48000 [==============================] - 3s - loss: 0.6554 - acc: 0.7994 - val_loss: 0.6608 - val_acc: 0.7896\n",
      "Epoch 30/30\n",
      "48000/48000 [==============================] - 3s - loss: 0.6499 - acc: 0.8010 - val_loss: 0.6493 - val_acc: 0.8038\n"
     ]
    }
   ],
   "source": [
    "history = model.fit(x_train_sravelled , y_train_oh, \n",
    "          batch_size=BATCHSIZE, epochs=EPOCHS, \n",
    "          verbose=1, \n",
    "          callbacks=[tbcallback],  ##\n",
    "          validation_split=0.2,  \n",
    "          validation_data=None, \n",
    "          shuffle=True, \n",
    "          class_weight=None, \n",
    "          sample_weight=None, \n",
    "          initial_epoch=0, \n",
    "         )"
   ]
  },
  {
   "cell_type": "code",
   "execution_count": 131,
   "metadata": {},
   "outputs": [
    {
     "name": "stdout",
     "output_type": "stream",
     "text": [
      " 8416/10000 [========================>.....] - ETA: 0s\n",
      "Test accuracy 0.7962\n"
     ]
    }
   ],
   "source": [
    "evalloss, testAccuracy = model.evaluate(x_test_sravelled,y_test_oh)\n",
    "\n",
    "print \"\\nTest accuracy\" , testAccuracy"
   ]
  },
  {
   "cell_type": "code",
   "execution_count": null,
   "metadata": {
    "collapsed": true
   },
   "outputs": [],
   "source": [
    "\n"
   ]
  }
 ],
 "metadata": {
  "kernelspec": {
   "display_name": "Python 2",
   "language": "python",
   "name": "python2"
  }
 },
 "nbformat": 4,
 "nbformat_minor": 2
}
